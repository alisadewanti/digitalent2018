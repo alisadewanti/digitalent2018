{
 "cells": [
  {
   "cell_type": "code",
   "execution_count": 3,
   "metadata": {},
   "outputs": [
    {
     "name": "stdout",
     "output_type": "stream",
     "text": [
      "BMI:  17.578125\n",
      "Kategori BMI: Underweight\n"
     ]
    }
   ],
   "source": [
    "weightKg = 45\n",
    "heightCm = 160\n",
    "bmi = weightKg / (heightCm**2) * 10000\n",
    "\n",
    "print(\"BMI: \", bmi)\n",
    "\n",
    "if bmi < 15:\n",
    "    print (\"Kategori BMI: Very severely underweight\")\n",
    "elif bmi >= 15 and bmi < 16:\n",
    "    print (\"Kategori BMI: Severely underweight\")\n",
    "elif bmi >= 16 and bmi < 18.5:\n",
    "    print(\"Kategori BMI: Underweight\")\n",
    "elif bmi >= 18.5 and bmi < 25:\n",
    "    print(\"Kategori BMI: Normal (healthy weight)\")\n",
    "elif bmi >= 25 and bmi < 30:\n",
    "    print(\"Kategori BMI: Overweight\")\n",
    "elif bmi >= 30 and bmi < 35:\n",
    "    print(\"Kategori BMI: Moderately obese\")\n",
    "elif bmi >= 35 and bmi < 40:\n",
    "    print(\"Kategori BMI: Severely obese\")\n",
    "else:\n",
    "    print (\"Kategori BMI: Very severely obese\")"
   ]
  },
  {
   "cell_type": "code",
   "execution_count": null,
   "metadata": {},
   "outputs": [],
   "source": []
  }
 ],
 "metadata": {
  "kernelspec": {
   "display_name": "Python 3",
   "language": "python",
   "name": "python3"
  },
  "language_info": {
   "codemirror_mode": {
    "name": "ipython",
    "version": 3
   },
   "file_extension": ".py",
   "mimetype": "text/x-python",
   "name": "python",
   "nbconvert_exporter": "python",
   "pygments_lexer": "ipython3",
   "version": "3.7.0"
  }
 },
 "nbformat": 4,
 "nbformat_minor": 2
}
