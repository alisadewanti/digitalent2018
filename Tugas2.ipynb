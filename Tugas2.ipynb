{
 "cells": [
  {
   "cell_type": "code",
   "execution_count": 3,
   "metadata": {},
   "outputs": [
    {
     "name": "stdout",
     "output_type": "stream",
     "text": [
      "[56, 7, 86, 84, 16, 20, 5, 61, 94, 1, 62, 32, 92, 6, 67, 35, 76, 47, 79, 63, 66, 26, 6, 53, 47, 77, 80, 56, 97, 64, 52, 92, 80, 2, 75, 50, 2, 75, 65, 31, 50, 10, 50, 10, 4, 6, 54, 8, 12, 85, 47, 11, 22, 71, 23, 57, 63, 30, 78, 71, 79, 6, 55, 47, 58, 21, 4, 42, 20, 7, 78, 48, 31, 47, 62, 30, 37, 89, 37, 39, 28, 88, 57, 72, 36, 30, 76, 92, 25, 34, 99, 28, 92, 61, 32, 35, 46, 86, 62, 21, 48, 92, 11, 77, 69, 3, 20, 52, 86, 29, 70, 53, 15, 44, 33, 52, 72, 51, 76, 29, 93, 46, 7, 75, 6, 87, 58, 76, 13, 13, 35, 35, 79, 66, 49, 49, 78, 54, 57, 11, 28, 26, 47, 90, 18, 57, 97, 35, 74, 51, 33, 5, 36, 45, 42, 15, 88, 17, 40, 25, 61, 18, 77, 31, 23, 88, 43, 67, 29, 57, 33, 63, 26, 10, 26, 45, 40, 26, 82, 38, 46, 3, 96, 10, 51, 55, 9, 52, 55, 47, 33, 28, 65, 19, 41, 19, 23, 72, 41, 17, 36, 6, 15, 59, 32, 84, 51, 43, 36, 25, 10, 39, 29, 21, 3, 75, 6, 17, 55, 10, 2, 76, 14, 4, 48, 75, 24, 12, 26, 42, 51, 3, 40, 81, 7, 80, 66, 32, 36, 45, 55, 40, 1, 5, 16, 21, 53, 85, 75, 33]\n"
     ]
    }
   ],
   "source": [
    "import random\n",
    "\n",
    "nilaiTugas = []\n",
    "for i in range(250):\n",
    "    nilaiTugas.append(random.randrange(1,100,1))\n",
    "print(nilaiTugas)"
   ]
  },
  {
   "cell_type": "code",
   "execution_count": 111,
   "metadata": {},
   "outputs": [
    {
     "name": "stdout",
     "output_type": "stream",
     "text": [
      "Nilai ganjil: \n",
      "7 5 61 1 67 35 47 79 63 53 47 77 97 75 75 65 31 85 47 11 71 23 57 63 71 79 55 47 21 7 31 47 37 89 37 39 57 25 99 61 35 21 11 77 69 3 29 53 15 33 51 29 93 7 75 87 13 13 35 35 79 49 49 57 11 47 57 97 35 51 33 5 45 15 17 25 61 77 31 23 43 67 29 57 33 63 45 3 51 55 9 55 47 33 65 19 41 19 23 41 17 15 59 51 43 25 39 29 21 3 75 17 55 75 51 3 81 7 45 55 1 5 21 53 85 75 33 \n",
      "Nilai ganjil sejumlah  127\n"
     ]
    }
   ],
   "source": [
    "#ganjil\n",
    "jumlah = 0\n",
    "print(\"Nilai ganjil: \")\n",
    "for i in nilaiTugas:\n",
    "    if i%2 != 0:\n",
    "        print (i, end=\" \")\n",
    "        jumlah += 1\n",
    "print(\"\\nNilai ganjil sejumlah \", jumlah)"
   ]
  },
  {
   "cell_type": "code",
   "execution_count": 6,
   "metadata": {},
   "outputs": [
    {
     "name": "stdout",
     "output_type": "stream",
     "text": [
      "86 84 94 92 76 79 77 80 97 92 80 75 75 85 71 78 71 79 78 89 88 72 76 92 99 92 86 92 77 86 72 76 93 75 87 76 79 78 90 97 74 88 77 88 82 96 72 84 75 76 75 81 80 85 75 "
     ]
    }
   ],
   "source": [
    "#nilai>70\n",
    "for i in nilaiTugas:\n",
    "    if i>70:\n",
    "        print (i, end=\" \")"
   ]
  },
  {
   "cell_type": "code",
   "execution_count": 109,
   "metadata": {},
   "outputs": [
    {
     "name": "stdout",
     "output_type": "stream",
     "text": [
      "Standar deviasi:  26.677662692728312\n",
      "Standar deviasi rumus manual:  26.67766269272831\n"
     ]
    }
   ],
   "source": [
    "#standar deviasi\n",
    "import statistics\n",
    "print (\"Standar deviasi: \", statistics.stdev(nilaiTugas))\n",
    "\n",
    "rata = sum(nilaiTugas)/len(nilaiTugas) \n",
    "jumlahX = 0\n",
    "\n",
    "for i in nilaiTugas:\n",
    "    x = (i-rata)**2\n",
    "    jumlahX +=x\n",
    "    \n",
    "standarDeviasi = (jumlahX/(len(nilaiTugas)-1))**(1/2)\n",
    "print (\"Standar deviasi rumus manual: \", standarDeviasi)"
   ]
  },
  {
   "cell_type": "code",
   "execution_count": 108,
   "metadata": {},
   "outputs": [
    {
     "name": "stdout",
     "output_type": "stream",
     "text": [
      "Nilai maksimum:  99\n"
     ]
    }
   ],
   "source": [
    "#maksimum\n",
    "max = 0\n",
    "for i in nilaiTugas:\n",
    "    if i > max:\n",
    "        max = i\n",
    "        \n",
    "print(\"Nilai maksimum: \", max)"
   ]
  },
  {
   "cell_type": "code",
   "execution_count": 22,
   "metadata": {},
   "outputs": [
    {
     "name": "stdout",
     "output_type": "stream",
     "text": [
      "Nilai minimum:  1\n"
     ]
    }
   ],
   "source": [
    "#minimum\n",
    "min = 99\n",
    "for i in nilaiTugas:\n",
    "    if i < min:\n",
    "        min = i\n",
    "print(\"Nilai minimum: \", min)"
   ]
  },
  {
   "cell_type": "code",
   "execution_count": 104,
   "metadata": {},
   "outputs": [
    {
     "name": "stdout",
     "output_type": "stream",
     "text": [
      "Modus:  6 dengan frekuensi:  7\n"
     ]
    }
   ],
   "source": [
    "#modus\n",
    "for n in nilaiTugas:\n",
    "    #print (n, \"jumlah: \", nilaiTugas.count(n))\n",
    "    if nilaiTugas.count(n) > frekuensiModus:\n",
    "        modus = n\n",
    "        frekuensiModus = nilaiTugas.count(n)        \n",
    "print (\"Modus: \", modus, \"dengan frekuensi: \", frekuensiModus)"
   ]
  },
  {
   "cell_type": "code",
   "execution_count": 117,
   "metadata": {},
   "outputs": [
    {
     "name": "stdout",
     "output_type": "stream",
     "text": [
      "barcelona : 4\n",
      "berhasil : 1\n",
      "merebut : 1\n",
      "posisi : 1\n",
      "puncak : 1\n",
      "klasemen : 1\n",
      "la : 1\n",
      "liga : 1\n",
      "spanyol : 1\n",
      "seusai : 1\n",
      "menang : 1\n",
      "4-2 : 1\n",
      "atas : 1\n",
      "sevilla : 1\n",
      "pada : 3\n",
      "pertandingan : 1\n",
      "pekan : 1\n",
      "kesembilan : 1\n",
      "di : 1\n",
      "stadion : 1\n",
      "camp : 1\n",
      "nou : 1\n",
      "sabtu : 1\n",
      "(20/10/2018) : 1\n",
      "atau : 1\n",
      "minggu : 1\n",
      "dini : 1\n",
      "hari : 1\n",
      "wib : 1\n",
      "membuka : 1\n",
      "keunggulan : 2\n",
      "menit : 3\n",
      "ke-2 : 1\n",
      "melalui : 1\n",
      "gol : 1\n",
      "yang : 1\n",
      "dicetak : 1\n",
      "oleh : 1\n",
      "philippe : 1\n",
      "coutinho : 1\n",
      "lionel : 1\n",
      "messi : 3\n",
      "menggandakan : 1\n",
      "10 : 1\n",
      "berselang : 1\n",
      "namun : 1\n",
      "nahas : 1\n",
      "bagi : 1\n",
      "karena : 1\n",
      "harus : 1\n",
      "ditarik : 1\n",
      "keluar : 1\n",
      "ke-26 : 1\n",
      "setelah : 1\n",
      "mengalami : 1\n",
      "cedera : 1\n",
      "tanpa : 1\n",
      "skor : 1\n",
      "2-0 : 1\n",
      "bertahan : 1\n",
      "hingga : 1\n",
      "babak : 1\n",
      "pertama : 1\n",
      "berakhir : 1\n"
     ]
    }
   ],
   "source": [
    "#Tugas Word Count\n",
    "paragraf = \"barcelona berhasil merebut posisi puncak klasemen La Liga Spanyol seusai menang 4-2 atas Sevilla pada pertandingan pekan kesembilan di Stadion Camp Nou, Sabtu (20/10/2018) atau Minggu dini hari WIB. Barcelona membuka keunggulan pada menit ke-2 melalui gol yang dicetak oleh Philippe Coutinho. Lionel Messi menggandakan keunggulan Barcelona, 10 menit berselang.  Namun, nahas bagi Barcelona, karena Messi harus ditarik keluar pada menit ke-26 setelah mengalami cedera. Tanpa Messi, skor 2-0 bertahan hingga babak pertama berakhir.\"\n",
    "#print(paragraf)\n",
    "paragraf2 = paragraf.lower().replace(',', '').replace('.','')\n",
    "words = paragraf2.split()\n",
    "dictWords = {}\n",
    "\n",
    "for i in words:\n",
    "    if i in dictWords:\n",
    "        dictWords[i] += 1\n",
    "    else:\n",
    "        dictWords[i] = 1\n",
    "        \n",
    "for k, v in dictWords.items():\n",
    "    print(k, \":\", v)\n"
   ]
  },
  {
   "cell_type": "code",
   "execution_count": null,
   "metadata": {},
   "outputs": [],
   "source": []
  }
 ],
 "metadata": {
  "kernelspec": {
   "display_name": "Python 3",
   "language": "python",
   "name": "python3"
  },
  "language_info": {
   "codemirror_mode": {
    "name": "ipython",
    "version": 3
   },
   "file_extension": ".py",
   "mimetype": "text/x-python",
   "name": "python",
   "nbconvert_exporter": "python",
   "pygments_lexer": "ipython3",
   "version": "3.7.0"
  }
 },
 "nbformat": 4,
 "nbformat_minor": 2
}
